{
  "nbformat": 4,
  "nbformat_minor": 0,
  "metadata": {
    "colab": {
      "provenance": [],
      "machine_shape": "hm",
      "mount_file_id": "1hA2cAN9gS5y6k9vW7XU_hs1_A8RfpWRf",
      "authorship_tag": "ABX9TyPF46hpukElb8c7GF4JHpzb",
      "include_colab_link": true
    },
    "kernelspec": {
      "name": "python3",
      "display_name": "Python 3"
    },
    "language_info": {
      "name": "python"
    },
    "widgets": {
      "application/vnd.jupyter.widget-state+json": {
        "d54c0fbb655b4047963a6762d3fb8b22": {
          "model_module": "@jupyter-widgets/controls",
          "model_name": "HBoxModel",
          "model_module_version": "1.5.0",
          "state": {
            "_dom_classes": [],
            "_model_module": "@jupyter-widgets/controls",
            "_model_module_version": "1.5.0",
            "_model_name": "HBoxModel",
            "_view_count": null,
            "_view_module": "@jupyter-widgets/controls",
            "_view_module_version": "1.5.0",
            "_view_name": "HBoxView",
            "box_style": "",
            "children": [
              "IPY_MODEL_33e519d7e4954240bc171cf1f1a3bf1a",
              "IPY_MODEL_226dcbf6207f47978ded185fb4d529d3",
              "IPY_MODEL_6ce6ef5e4361486999cc607a2ec6da0e"
            ],
            "layout": "IPY_MODEL_b766b91cccf748768b7a4559573d43b7"
          }
        },
        "33e519d7e4954240bc171cf1f1a3bf1a": {
          "model_module": "@jupyter-widgets/controls",
          "model_name": "HTMLModel",
          "model_module_version": "1.5.0",
          "state": {
            "_dom_classes": [],
            "_model_module": "@jupyter-widgets/controls",
            "_model_module_version": "1.5.0",
            "_model_name": "HTMLModel",
            "_view_count": null,
            "_view_module": "@jupyter-widgets/controls",
            "_view_module_version": "1.5.0",
            "_view_name": "HTMLView",
            "description": "",
            "description_tooltip": null,
            "layout": "IPY_MODEL_8bf1e886634b4015968d1ed572c40005",
            "placeholder": "​",
            "style": "IPY_MODEL_65648ff69b2e40b4a6356b9f99260b36",
            "value": "Optimization Progress: 100%"
          }
        },
        "226dcbf6207f47978ded185fb4d529d3": {
          "model_module": "@jupyter-widgets/controls",
          "model_name": "FloatProgressModel",
          "model_module_version": "1.5.0",
          "state": {
            "_dom_classes": [],
            "_model_module": "@jupyter-widgets/controls",
            "_model_module_version": "1.5.0",
            "_model_name": "FloatProgressModel",
            "_view_count": null,
            "_view_module": "@jupyter-widgets/controls",
            "_view_module_version": "1.5.0",
            "_view_name": "ProgressView",
            "bar_style": "",
            "description": "",
            "description_tooltip": null,
            "layout": "IPY_MODEL_a5e606232f594f8695e7c4b6687d4369",
            "max": 4650,
            "min": 0,
            "orientation": "horizontal",
            "style": "IPY_MODEL_7ca2ba4cc2c546ff8f554e9c074672b6",
            "value": 4650
          }
        },
        "6ce6ef5e4361486999cc607a2ec6da0e": {
          "model_module": "@jupyter-widgets/controls",
          "model_name": "HTMLModel",
          "model_module_version": "1.5.0",
          "state": {
            "_dom_classes": [],
            "_model_module": "@jupyter-widgets/controls",
            "_model_module_version": "1.5.0",
            "_model_name": "HTMLModel",
            "_view_count": null,
            "_view_module": "@jupyter-widgets/controls",
            "_view_module_version": "1.5.0",
            "_view_name": "HTMLView",
            "description": "",
            "description_tooltip": null,
            "layout": "IPY_MODEL_876d327c7dac4860a7ee47cb7dd7e570",
            "placeholder": "​",
            "style": "IPY_MODEL_cd1cf2fc0197477a9ac7bbc5386b119c",
            "value": " 4650/4650 [1:14:04&lt;00:00,  1.52s/pipeline]"
          }
        },
        "b766b91cccf748768b7a4559573d43b7": {
          "model_module": "@jupyter-widgets/base",
          "model_name": "LayoutModel",
          "model_module_version": "1.2.0",
          "state": {
            "_model_module": "@jupyter-widgets/base",
            "_model_module_version": "1.2.0",
            "_model_name": "LayoutModel",
            "_view_count": null,
            "_view_module": "@jupyter-widgets/base",
            "_view_module_version": "1.2.0",
            "_view_name": "LayoutView",
            "align_content": null,
            "align_items": null,
            "align_self": null,
            "border": null,
            "bottom": null,
            "display": null,
            "flex": null,
            "flex_flow": null,
            "grid_area": null,
            "grid_auto_columns": null,
            "grid_auto_flow": null,
            "grid_auto_rows": null,
            "grid_column": null,
            "grid_gap": null,
            "grid_row": null,
            "grid_template_areas": null,
            "grid_template_columns": null,
            "grid_template_rows": null,
            "height": null,
            "justify_content": null,
            "justify_items": null,
            "left": null,
            "margin": null,
            "max_height": null,
            "max_width": null,
            "min_height": null,
            "min_width": null,
            "object_fit": null,
            "object_position": null,
            "order": null,
            "overflow": null,
            "overflow_x": null,
            "overflow_y": null,
            "padding": null,
            "right": null,
            "top": null,
            "visibility": "hidden",
            "width": null
          }
        },
        "8bf1e886634b4015968d1ed572c40005": {
          "model_module": "@jupyter-widgets/base",
          "model_name": "LayoutModel",
          "model_module_version": "1.2.0",
          "state": {
            "_model_module": "@jupyter-widgets/base",
            "_model_module_version": "1.2.0",
            "_model_name": "LayoutModel",
            "_view_count": null,
            "_view_module": "@jupyter-widgets/base",
            "_view_module_version": "1.2.0",
            "_view_name": "LayoutView",
            "align_content": null,
            "align_items": null,
            "align_self": null,
            "border": null,
            "bottom": null,
            "display": null,
            "flex": null,
            "flex_flow": null,
            "grid_area": null,
            "grid_auto_columns": null,
            "grid_auto_flow": null,
            "grid_auto_rows": null,
            "grid_column": null,
            "grid_gap": null,
            "grid_row": null,
            "grid_template_areas": null,
            "grid_template_columns": null,
            "grid_template_rows": null,
            "height": null,
            "justify_content": null,
            "justify_items": null,
            "left": null,
            "margin": null,
            "max_height": null,
            "max_width": null,
            "min_height": null,
            "min_width": null,
            "object_fit": null,
            "object_position": null,
            "order": null,
            "overflow": null,
            "overflow_x": null,
            "overflow_y": null,
            "padding": null,
            "right": null,
            "top": null,
            "visibility": null,
            "width": null
          }
        },
        "65648ff69b2e40b4a6356b9f99260b36": {
          "model_module": "@jupyter-widgets/controls",
          "model_name": "DescriptionStyleModel",
          "model_module_version": "1.5.0",
          "state": {
            "_model_module": "@jupyter-widgets/controls",
            "_model_module_version": "1.5.0",
            "_model_name": "DescriptionStyleModel",
            "_view_count": null,
            "_view_module": "@jupyter-widgets/base",
            "_view_module_version": "1.2.0",
            "_view_name": "StyleView",
            "description_width": ""
          }
        },
        "a5e606232f594f8695e7c4b6687d4369": {
          "model_module": "@jupyter-widgets/base",
          "model_name": "LayoutModel",
          "model_module_version": "1.2.0",
          "state": {
            "_model_module": "@jupyter-widgets/base",
            "_model_module_version": "1.2.0",
            "_model_name": "LayoutModel",
            "_view_count": null,
            "_view_module": "@jupyter-widgets/base",
            "_view_module_version": "1.2.0",
            "_view_name": "LayoutView",
            "align_content": null,
            "align_items": null,
            "align_self": null,
            "border": null,
            "bottom": null,
            "display": null,
            "flex": null,
            "flex_flow": null,
            "grid_area": null,
            "grid_auto_columns": null,
            "grid_auto_flow": null,
            "grid_auto_rows": null,
            "grid_column": null,
            "grid_gap": null,
            "grid_row": null,
            "grid_template_areas": null,
            "grid_template_columns": null,
            "grid_template_rows": null,
            "height": null,
            "justify_content": null,
            "justify_items": null,
            "left": null,
            "margin": null,
            "max_height": null,
            "max_width": null,
            "min_height": null,
            "min_width": null,
            "object_fit": null,
            "object_position": null,
            "order": null,
            "overflow": null,
            "overflow_x": null,
            "overflow_y": null,
            "padding": null,
            "right": null,
            "top": null,
            "visibility": null,
            "width": null
          }
        },
        "7ca2ba4cc2c546ff8f554e9c074672b6": {
          "model_module": "@jupyter-widgets/controls",
          "model_name": "ProgressStyleModel",
          "model_module_version": "1.5.0",
          "state": {
            "_model_module": "@jupyter-widgets/controls",
            "_model_module_version": "1.5.0",
            "_model_name": "ProgressStyleModel",
            "_view_count": null,
            "_view_module": "@jupyter-widgets/base",
            "_view_module_version": "1.2.0",
            "_view_name": "StyleView",
            "bar_color": null,
            "description_width": ""
          }
        },
        "876d327c7dac4860a7ee47cb7dd7e570": {
          "model_module": "@jupyter-widgets/base",
          "model_name": "LayoutModel",
          "model_module_version": "1.2.0",
          "state": {
            "_model_module": "@jupyter-widgets/base",
            "_model_module_version": "1.2.0",
            "_model_name": "LayoutModel",
            "_view_count": null,
            "_view_module": "@jupyter-widgets/base",
            "_view_module_version": "1.2.0",
            "_view_name": "LayoutView",
            "align_content": null,
            "align_items": null,
            "align_self": null,
            "border": null,
            "bottom": null,
            "display": null,
            "flex": null,
            "flex_flow": null,
            "grid_area": null,
            "grid_auto_columns": null,
            "grid_auto_flow": null,
            "grid_auto_rows": null,
            "grid_column": null,
            "grid_gap": null,
            "grid_row": null,
            "grid_template_areas": null,
            "grid_template_columns": null,
            "grid_template_rows": null,
            "height": null,
            "justify_content": null,
            "justify_items": null,
            "left": null,
            "margin": null,
            "max_height": null,
            "max_width": null,
            "min_height": null,
            "min_width": null,
            "object_fit": null,
            "object_position": null,
            "order": null,
            "overflow": null,
            "overflow_x": null,
            "overflow_y": null,
            "padding": null,
            "right": null,
            "top": null,
            "visibility": null,
            "width": null
          }
        },
        "cd1cf2fc0197477a9ac7bbc5386b119c": {
          "model_module": "@jupyter-widgets/controls",
          "model_name": "DescriptionStyleModel",
          "model_module_version": "1.5.0",
          "state": {
            "_model_module": "@jupyter-widgets/controls",
            "_model_module_version": "1.5.0",
            "_model_name": "DescriptionStyleModel",
            "_view_count": null,
            "_view_module": "@jupyter-widgets/base",
            "_view_module_version": "1.2.0",
            "_view_name": "StyleView",
            "description_width": ""
          }
        },
        "9d6969fa490f4dd7b7b6bccb5ad5efd5": {
          "model_module": "@jupyter-widgets/controls",
          "model_name": "HBoxModel",
          "model_module_version": "1.5.0",
          "state": {
            "_dom_classes": [],
            "_model_module": "@jupyter-widgets/controls",
            "_model_module_version": "1.5.0",
            "_model_name": "HBoxModel",
            "_view_count": null,
            "_view_module": "@jupyter-widgets/controls",
            "_view_module_version": "1.5.0",
            "_view_name": "HBoxView",
            "box_style": "",
            "children": [
              "IPY_MODEL_22746f4a804747fdbf9632e413bf5b91",
              "IPY_MODEL_cd65350514dd40b2a75b22ae0f25e2b5",
              "IPY_MODEL_b0476c7cb3ab496d8893df5a7c743513"
            ],
            "layout": "IPY_MODEL_6f241aca9fe543429146e185c6ede18f"
          }
        },
        "22746f4a804747fdbf9632e413bf5b91": {
          "model_module": "@jupyter-widgets/controls",
          "model_name": "HTMLModel",
          "model_module_version": "1.5.0",
          "state": {
            "_dom_classes": [],
            "_model_module": "@jupyter-widgets/controls",
            "_model_module_version": "1.5.0",
            "_model_name": "HTMLModel",
            "_view_count": null,
            "_view_module": "@jupyter-widgets/controls",
            "_view_module_version": "1.5.0",
            "_view_name": "HTMLView",
            "description": "",
            "description_tooltip": null,
            "layout": "IPY_MODEL_ae341954d05f4721a8e8cf6e83034587",
            "placeholder": "​",
            "style": "IPY_MODEL_9a4017969b6b4062a1c0748a92e05b4c",
            "value": "Optimization Progress: 100%"
          }
        },
        "cd65350514dd40b2a75b22ae0f25e2b5": {
          "model_module": "@jupyter-widgets/controls",
          "model_name": "FloatProgressModel",
          "model_module_version": "1.5.0",
          "state": {
            "_dom_classes": [],
            "_model_module": "@jupyter-widgets/controls",
            "_model_module_version": "1.5.0",
            "_model_name": "FloatProgressModel",
            "_view_count": null,
            "_view_module": "@jupyter-widgets/controls",
            "_view_module_version": "1.5.0",
            "_view_name": "ProgressView",
            "bar_style": "",
            "description": "",
            "description_tooltip": null,
            "layout": "IPY_MODEL_a6febcb055b24f14b726f95c2698f8f5",
            "max": 4650,
            "min": 0,
            "orientation": "horizontal",
            "style": "IPY_MODEL_63076053f7fc4e758ca0952c6f15476f",
            "value": 4650
          }
        },
        "b0476c7cb3ab496d8893df5a7c743513": {
          "model_module": "@jupyter-widgets/controls",
          "model_name": "HTMLModel",
          "model_module_version": "1.5.0",
          "state": {
            "_dom_classes": [],
            "_model_module": "@jupyter-widgets/controls",
            "_model_module_version": "1.5.0",
            "_model_name": "HTMLModel",
            "_view_count": null,
            "_view_module": "@jupyter-widgets/controls",
            "_view_module_version": "1.5.0",
            "_view_name": "HTMLView",
            "description": "",
            "description_tooltip": null,
            "layout": "IPY_MODEL_6f64831431fb4b17a04757d6d2d1f77a",
            "placeholder": "​",
            "style": "IPY_MODEL_03b4a4b333a94ddf873ba602fe43f94d",
            "value": " 4650/4650 [1:42:18&lt;00:00,  1.30s/pipeline]"
          }
        },
        "6f241aca9fe543429146e185c6ede18f": {
          "model_module": "@jupyter-widgets/base",
          "model_name": "LayoutModel",
          "model_module_version": "1.2.0",
          "state": {
            "_model_module": "@jupyter-widgets/base",
            "_model_module_version": "1.2.0",
            "_model_name": "LayoutModel",
            "_view_count": null,
            "_view_module": "@jupyter-widgets/base",
            "_view_module_version": "1.2.0",
            "_view_name": "LayoutView",
            "align_content": null,
            "align_items": null,
            "align_self": null,
            "border": null,
            "bottom": null,
            "display": null,
            "flex": null,
            "flex_flow": null,
            "grid_area": null,
            "grid_auto_columns": null,
            "grid_auto_flow": null,
            "grid_auto_rows": null,
            "grid_column": null,
            "grid_gap": null,
            "grid_row": null,
            "grid_template_areas": null,
            "grid_template_columns": null,
            "grid_template_rows": null,
            "height": null,
            "justify_content": null,
            "justify_items": null,
            "left": null,
            "margin": null,
            "max_height": null,
            "max_width": null,
            "min_height": null,
            "min_width": null,
            "object_fit": null,
            "object_position": null,
            "order": null,
            "overflow": null,
            "overflow_x": null,
            "overflow_y": null,
            "padding": null,
            "right": null,
            "top": null,
            "visibility": "hidden",
            "width": null
          }
        },
        "ae341954d05f4721a8e8cf6e83034587": {
          "model_module": "@jupyter-widgets/base",
          "model_name": "LayoutModel",
          "model_module_version": "1.2.0",
          "state": {
            "_model_module": "@jupyter-widgets/base",
            "_model_module_version": "1.2.0",
            "_model_name": "LayoutModel",
            "_view_count": null,
            "_view_module": "@jupyter-widgets/base",
            "_view_module_version": "1.2.0",
            "_view_name": "LayoutView",
            "align_content": null,
            "align_items": null,
            "align_self": null,
            "border": null,
            "bottom": null,
            "display": null,
            "flex": null,
            "flex_flow": null,
            "grid_area": null,
            "grid_auto_columns": null,
            "grid_auto_flow": null,
            "grid_auto_rows": null,
            "grid_column": null,
            "grid_gap": null,
            "grid_row": null,
            "grid_template_areas": null,
            "grid_template_columns": null,
            "grid_template_rows": null,
            "height": null,
            "justify_content": null,
            "justify_items": null,
            "left": null,
            "margin": null,
            "max_height": null,
            "max_width": null,
            "min_height": null,
            "min_width": null,
            "object_fit": null,
            "object_position": null,
            "order": null,
            "overflow": null,
            "overflow_x": null,
            "overflow_y": null,
            "padding": null,
            "right": null,
            "top": null,
            "visibility": null,
            "width": null
          }
        },
        "9a4017969b6b4062a1c0748a92e05b4c": {
          "model_module": "@jupyter-widgets/controls",
          "model_name": "DescriptionStyleModel",
          "model_module_version": "1.5.0",
          "state": {
            "_model_module": "@jupyter-widgets/controls",
            "_model_module_version": "1.5.0",
            "_model_name": "DescriptionStyleModel",
            "_view_count": null,
            "_view_module": "@jupyter-widgets/base",
            "_view_module_version": "1.2.0",
            "_view_name": "StyleView",
            "description_width": ""
          }
        },
        "a6febcb055b24f14b726f95c2698f8f5": {
          "model_module": "@jupyter-widgets/base",
          "model_name": "LayoutModel",
          "model_module_version": "1.2.0",
          "state": {
            "_model_module": "@jupyter-widgets/base",
            "_model_module_version": "1.2.0",
            "_model_name": "LayoutModel",
            "_view_count": null,
            "_view_module": "@jupyter-widgets/base",
            "_view_module_version": "1.2.0",
            "_view_name": "LayoutView",
            "align_content": null,
            "align_items": null,
            "align_self": null,
            "border": null,
            "bottom": null,
            "display": null,
            "flex": null,
            "flex_flow": null,
            "grid_area": null,
            "grid_auto_columns": null,
            "grid_auto_flow": null,
            "grid_auto_rows": null,
            "grid_column": null,
            "grid_gap": null,
            "grid_row": null,
            "grid_template_areas": null,
            "grid_template_columns": null,
            "grid_template_rows": null,
            "height": null,
            "justify_content": null,
            "justify_items": null,
            "left": null,
            "margin": null,
            "max_height": null,
            "max_width": null,
            "min_height": null,
            "min_width": null,
            "object_fit": null,
            "object_position": null,
            "order": null,
            "overflow": null,
            "overflow_x": null,
            "overflow_y": null,
            "padding": null,
            "right": null,
            "top": null,
            "visibility": null,
            "width": null
          }
        },
        "63076053f7fc4e758ca0952c6f15476f": {
          "model_module": "@jupyter-widgets/controls",
          "model_name": "ProgressStyleModel",
          "model_module_version": "1.5.0",
          "state": {
            "_model_module": "@jupyter-widgets/controls",
            "_model_module_version": "1.5.0",
            "_model_name": "ProgressStyleModel",
            "_view_count": null,
            "_view_module": "@jupyter-widgets/base",
            "_view_module_version": "1.2.0",
            "_view_name": "StyleView",
            "bar_color": null,
            "description_width": ""
          }
        },
        "6f64831431fb4b17a04757d6d2d1f77a": {
          "model_module": "@jupyter-widgets/base",
          "model_name": "LayoutModel",
          "model_module_version": "1.2.0",
          "state": {
            "_model_module": "@jupyter-widgets/base",
            "_model_module_version": "1.2.0",
            "_model_name": "LayoutModel",
            "_view_count": null,
            "_view_module": "@jupyter-widgets/base",
            "_view_module_version": "1.2.0",
            "_view_name": "LayoutView",
            "align_content": null,
            "align_items": null,
            "align_self": null,
            "border": null,
            "bottom": null,
            "display": null,
            "flex": null,
            "flex_flow": null,
            "grid_area": null,
            "grid_auto_columns": null,
            "grid_auto_flow": null,
            "grid_auto_rows": null,
            "grid_column": null,
            "grid_gap": null,
            "grid_row": null,
            "grid_template_areas": null,
            "grid_template_columns": null,
            "grid_template_rows": null,
            "height": null,
            "justify_content": null,
            "justify_items": null,
            "left": null,
            "margin": null,
            "max_height": null,
            "max_width": null,
            "min_height": null,
            "min_width": null,
            "object_fit": null,
            "object_position": null,
            "order": null,
            "overflow": null,
            "overflow_x": null,
            "overflow_y": null,
            "padding": null,
            "right": null,
            "top": null,
            "visibility": null,
            "width": null
          }
        },
        "03b4a4b333a94ddf873ba602fe43f94d": {
          "model_module": "@jupyter-widgets/controls",
          "model_name": "DescriptionStyleModel",
          "model_module_version": "1.5.0",
          "state": {
            "_model_module": "@jupyter-widgets/controls",
            "_model_module_version": "1.5.0",
            "_model_name": "DescriptionStyleModel",
            "_view_count": null,
            "_view_module": "@jupyter-widgets/base",
            "_view_module_version": "1.2.0",
            "_view_name": "StyleView",
            "description_width": ""
          }
        },
        "f547df1d26074e43adc3cc970dc8be1b": {
          "model_module": "@jupyter-widgets/controls",
          "model_name": "HBoxModel",
          "model_module_version": "1.5.0",
          "state": {
            "_dom_classes": [],
            "_model_module": "@jupyter-widgets/controls",
            "_model_module_version": "1.5.0",
            "_model_name": "HBoxModel",
            "_view_count": null,
            "_view_module": "@jupyter-widgets/controls",
            "_view_module_version": "1.5.0",
            "_view_name": "HBoxView",
            "box_style": "",
            "children": [
              "IPY_MODEL_7bfe22b6a1394030b73a7e759204bd80",
              "IPY_MODEL_3fbe62741fa445b6aba2851295720e60",
              "IPY_MODEL_83ebb40da40c436eadae93ee828dfb5f"
            ],
            "layout": "IPY_MODEL_bf92431d1a2147ccbc7bf9247c1dfe30"
          }
        },
        "7bfe22b6a1394030b73a7e759204bd80": {
          "model_module": "@jupyter-widgets/controls",
          "model_name": "HTMLModel",
          "model_module_version": "1.5.0",
          "state": {
            "_dom_classes": [],
            "_model_module": "@jupyter-widgets/controls",
            "_model_module_version": "1.5.0",
            "_model_name": "HTMLModel",
            "_view_count": null,
            "_view_module": "@jupyter-widgets/controls",
            "_view_module_version": "1.5.0",
            "_view_name": "HTMLView",
            "description": "",
            "description_tooltip": null,
            "layout": "IPY_MODEL_cf74723bc3054046ace8768b9f8214f3",
            "placeholder": "​",
            "style": "IPY_MODEL_37479a0574c9471383fa8e44d019c063",
            "value": "Optimization Progress: 100%"
          }
        },
        "3fbe62741fa445b6aba2851295720e60": {
          "model_module": "@jupyter-widgets/controls",
          "model_name": "FloatProgressModel",
          "model_module_version": "1.5.0",
          "state": {
            "_dom_classes": [],
            "_model_module": "@jupyter-widgets/controls",
            "_model_module_version": "1.5.0",
            "_model_name": "FloatProgressModel",
            "_view_count": null,
            "_view_module": "@jupyter-widgets/controls",
            "_view_module_version": "1.5.0",
            "_view_name": "ProgressView",
            "bar_style": "",
            "description": "",
            "description_tooltip": null,
            "layout": "IPY_MODEL_9d9910b8758c4900af02bb0ff3c76232",
            "max": 4650,
            "min": 0,
            "orientation": "horizontal",
            "style": "IPY_MODEL_b86a83e81e144bbdbba76cb462504313",
            "value": 4650
          }
        },
        "83ebb40da40c436eadae93ee828dfb5f": {
          "model_module": "@jupyter-widgets/controls",
          "model_name": "HTMLModel",
          "model_module_version": "1.5.0",
          "state": {
            "_dom_classes": [],
            "_model_module": "@jupyter-widgets/controls",
            "_model_module_version": "1.5.0",
            "_model_name": "HTMLModel",
            "_view_count": null,
            "_view_module": "@jupyter-widgets/controls",
            "_view_module_version": "1.5.0",
            "_view_name": "HTMLView",
            "description": "",
            "description_tooltip": null,
            "layout": "IPY_MODEL_687942589a1148348c9c115c62adae2c",
            "placeholder": "​",
            "style": "IPY_MODEL_e7408f08168d4d9d8d6bbc9d06db2838",
            "value": " 4650/4650 [21:49&lt;00:00,  4.70pipeline/s]"
          }
        },
        "bf92431d1a2147ccbc7bf9247c1dfe30": {
          "model_module": "@jupyter-widgets/base",
          "model_name": "LayoutModel",
          "model_module_version": "1.2.0",
          "state": {
            "_model_module": "@jupyter-widgets/base",
            "_model_module_version": "1.2.0",
            "_model_name": "LayoutModel",
            "_view_count": null,
            "_view_module": "@jupyter-widgets/base",
            "_view_module_version": "1.2.0",
            "_view_name": "LayoutView",
            "align_content": null,
            "align_items": null,
            "align_self": null,
            "border": null,
            "bottom": null,
            "display": null,
            "flex": null,
            "flex_flow": null,
            "grid_area": null,
            "grid_auto_columns": null,
            "grid_auto_flow": null,
            "grid_auto_rows": null,
            "grid_column": null,
            "grid_gap": null,
            "grid_row": null,
            "grid_template_areas": null,
            "grid_template_columns": null,
            "grid_template_rows": null,
            "height": null,
            "justify_content": null,
            "justify_items": null,
            "left": null,
            "margin": null,
            "max_height": null,
            "max_width": null,
            "min_height": null,
            "min_width": null,
            "object_fit": null,
            "object_position": null,
            "order": null,
            "overflow": null,
            "overflow_x": null,
            "overflow_y": null,
            "padding": null,
            "right": null,
            "top": null,
            "visibility": "hidden",
            "width": null
          }
        },
        "cf74723bc3054046ace8768b9f8214f3": {
          "model_module": "@jupyter-widgets/base",
          "model_name": "LayoutModel",
          "model_module_version": "1.2.0",
          "state": {
            "_model_module": "@jupyter-widgets/base",
            "_model_module_version": "1.2.0",
            "_model_name": "LayoutModel",
            "_view_count": null,
            "_view_module": "@jupyter-widgets/base",
            "_view_module_version": "1.2.0",
            "_view_name": "LayoutView",
            "align_content": null,
            "align_items": null,
            "align_self": null,
            "border": null,
            "bottom": null,
            "display": null,
            "flex": null,
            "flex_flow": null,
            "grid_area": null,
            "grid_auto_columns": null,
            "grid_auto_flow": null,
            "grid_auto_rows": null,
            "grid_column": null,
            "grid_gap": null,
            "grid_row": null,
            "grid_template_areas": null,
            "grid_template_columns": null,
            "grid_template_rows": null,
            "height": null,
            "justify_content": null,
            "justify_items": null,
            "left": null,
            "margin": null,
            "max_height": null,
            "max_width": null,
            "min_height": null,
            "min_width": null,
            "object_fit": null,
            "object_position": null,
            "order": null,
            "overflow": null,
            "overflow_x": null,
            "overflow_y": null,
            "padding": null,
            "right": null,
            "top": null,
            "visibility": null,
            "width": null
          }
        },
        "37479a0574c9471383fa8e44d019c063": {
          "model_module": "@jupyter-widgets/controls",
          "model_name": "DescriptionStyleModel",
          "model_module_version": "1.5.0",
          "state": {
            "_model_module": "@jupyter-widgets/controls",
            "_model_module_version": "1.5.0",
            "_model_name": "DescriptionStyleModel",
            "_view_count": null,
            "_view_module": "@jupyter-widgets/base",
            "_view_module_version": "1.2.0",
            "_view_name": "StyleView",
            "description_width": ""
          }
        },
        "9d9910b8758c4900af02bb0ff3c76232": {
          "model_module": "@jupyter-widgets/base",
          "model_name": "LayoutModel",
          "model_module_version": "1.2.0",
          "state": {
            "_model_module": "@jupyter-widgets/base",
            "_model_module_version": "1.2.0",
            "_model_name": "LayoutModel",
            "_view_count": null,
            "_view_module": "@jupyter-widgets/base",
            "_view_module_version": "1.2.0",
            "_view_name": "LayoutView",
            "align_content": null,
            "align_items": null,
            "align_self": null,
            "border": null,
            "bottom": null,
            "display": null,
            "flex": null,
            "flex_flow": null,
            "grid_area": null,
            "grid_auto_columns": null,
            "grid_auto_flow": null,
            "grid_auto_rows": null,
            "grid_column": null,
            "grid_gap": null,
            "grid_row": null,
            "grid_template_areas": null,
            "grid_template_columns": null,
            "grid_template_rows": null,
            "height": null,
            "justify_content": null,
            "justify_items": null,
            "left": null,
            "margin": null,
            "max_height": null,
            "max_width": null,
            "min_height": null,
            "min_width": null,
            "object_fit": null,
            "object_position": null,
            "order": null,
            "overflow": null,
            "overflow_x": null,
            "overflow_y": null,
            "padding": null,
            "right": null,
            "top": null,
            "visibility": null,
            "width": null
          }
        },
        "b86a83e81e144bbdbba76cb462504313": {
          "model_module": "@jupyter-widgets/controls",
          "model_name": "ProgressStyleModel",
          "model_module_version": "1.5.0",
          "state": {
            "_model_module": "@jupyter-widgets/controls",
            "_model_module_version": "1.5.0",
            "_model_name": "ProgressStyleModel",
            "_view_count": null,
            "_view_module": "@jupyter-widgets/base",
            "_view_module_version": "1.2.0",
            "_view_name": "StyleView",
            "bar_color": null,
            "description_width": ""
          }
        },
        "687942589a1148348c9c115c62adae2c": {
          "model_module": "@jupyter-widgets/base",
          "model_name": "LayoutModel",
          "model_module_version": "1.2.0",
          "state": {
            "_model_module": "@jupyter-widgets/base",
            "_model_module_version": "1.2.0",
            "_model_name": "LayoutModel",
            "_view_count": null,
            "_view_module": "@jupyter-widgets/base",
            "_view_module_version": "1.2.0",
            "_view_name": "LayoutView",
            "align_content": null,
            "align_items": null,
            "align_self": null,
            "border": null,
            "bottom": null,
            "display": null,
            "flex": null,
            "flex_flow": null,
            "grid_area": null,
            "grid_auto_columns": null,
            "grid_auto_flow": null,
            "grid_auto_rows": null,
            "grid_column": null,
            "grid_gap": null,
            "grid_row": null,
            "grid_template_areas": null,
            "grid_template_columns": null,
            "grid_template_rows": null,
            "height": null,
            "justify_content": null,
            "justify_items": null,
            "left": null,
            "margin": null,
            "max_height": null,
            "max_width": null,
            "min_height": null,
            "min_width": null,
            "object_fit": null,
            "object_position": null,
            "order": null,
            "overflow": null,
            "overflow_x": null,
            "overflow_y": null,
            "padding": null,
            "right": null,
            "top": null,
            "visibility": null,
            "width": null
          }
        },
        "e7408f08168d4d9d8d6bbc9d06db2838": {
          "model_module": "@jupyter-widgets/controls",
          "model_name": "DescriptionStyleModel",
          "model_module_version": "1.5.0",
          "state": {
            "_model_module": "@jupyter-widgets/controls",
            "_model_module_version": "1.5.0",
            "_model_name": "DescriptionStyleModel",
            "_view_count": null,
            "_view_module": "@jupyter-widgets/base",
            "_view_module_version": "1.2.0",
            "_view_name": "StyleView",
            "description_width": ""
          }
        }
      }
    }
  },
  "cells": [
    {
      "cell_type": "markdown",
      "metadata": {
        "id": "view-in-github",
        "colab_type": "text"
      },
      "source": [
        "<a href=\"https://colab.research.google.com/github/rornellas/colab_preco_seguro_rl/blob/main/desafio_fiap_machine_learning.ipynb\" target=\"_parent\"><img src=\"https://colab.research.google.com/assets/colab-badge.svg\" alt=\"Open In Colab\"/></a>"
      ]
    },
    {
      "cell_type": "markdown",
      "source": [
        "# Explorando os dados e realizando um treinamento SIMPLES"
      ],
      "metadata": {
        "id": "W6p0AELLDs7p"
      }
    },
    {
      "cell_type": "code",
      "execution_count": 3,
      "metadata": {
        "id": "UXB7pCkyvBhy"
      },
      "outputs": [],
      "source": [
        "#analisando dados do dataset\n",
        "!pip install -q -U tpot\n",
        "import pandas as pd\n",
        "\n",
        "df = pd.read_csv('/content/drive/MyDrive/IA para devs - fiap/machine learning/aula 2 - regressão linear e métricas de validação/insurance.csv')\n"
      ]
    },
    {
      "cell_type": "code",
      "source": [
        "df.info()"
      ],
      "metadata": {
        "colab": {
          "base_uri": "https://localhost:8080/"
        },
        "id": "1APGFZ-Zhqw0",
        "outputId": "b28fc38c-ed6f-4a15-a3a8-3be72fd96e9e"
      },
      "execution_count": 5,
      "outputs": [
        {
          "output_type": "stream",
          "name": "stdout",
          "text": [
            "<class 'pandas.core.frame.DataFrame'>\n",
            "RangeIndex: 1338 entries, 0 to 1337\n",
            "Data columns (total 7 columns):\n",
            " #   Column    Non-Null Count  Dtype  \n",
            "---  ------    --------------  -----  \n",
            " 0   age       1338 non-null   int64  \n",
            " 1   sex       1338 non-null   object \n",
            " 2   bmi       1338 non-null   float64\n",
            " 3   children  1338 non-null   int64  \n",
            " 4   smoker    1338 non-null   object \n",
            " 5   region    1338 non-null   object \n",
            " 6   charges   1338 non-null   float64\n",
            "dtypes: float64(2), int64(2), object(3)\n",
            "memory usage: 73.3+ KB\n"
          ]
        }
      ]
    },
    {
      "cell_type": "code",
      "source": [
        "print(df.head(1), \"\\n\")\n",
        "print(df.shape, \"\\n\")\n",
        "print(df.info(), \"\\n\")\n",
        "print(df.describe(), \"\\n\")\n",
        "print(df.isnull().sum(), \"\\n\")"
      ],
      "metadata": {
        "id": "cHMGf5Pu4RCE"
      },
      "execution_count": null,
      "outputs": []
    },
    {
      "cell_type": "markdown",
      "source": [
        "# Tentativa...\n",
        "\n",
        "Aqui tentei aplicar o one-ho na coluna region... mas não reve relevancia nos resultados"
      ],
      "metadata": {
        "id": "Cb7fGpnHXuSH"
      }
    },
    {
      "cell_type": "code",
      "source": [
        "#verificando variacao de valores na coluna region\n",
        "\n",
        "print(df[\"region\"].value_counts())\n",
        "\n",
        "#from sklearn.preprocessing import OneHotEncoder\n",
        "\n",
        "# Instanciando o encoder\n",
        "#encoder = OneHotEncoder(sparse=False)\n",
        "\n",
        "# Ajustando o encoder na coluna 'region' e transformando os dados\n",
        "#encoded_regions = encoder.fit_transform(df[['region']])\n",
        "\n",
        "# Criando um DataFrame com as novas colunas\n",
        "#encoded_df = pd.DataFrame(encoded_regions, columns=encoder.get_feature_names_out(['region']))\n",
        "\n",
        "# Concatenando com o DataFrame original\n",
        "#df = pd.concat([df, encoded_df], axis=1)"
      ],
      "metadata": {
        "id": "kkNFWO5K1GLw",
        "colab": {
          "base_uri": "https://localhost:8080/"
        },
        "outputId": "5d572144-ad20-4097-d6bd-ba09bffbd130"
      },
      "execution_count": null,
      "outputs": [
        {
          "output_type": "stream",
          "name": "stdout",
          "text": [
            "region\n",
            "southeast    364\n",
            "southwest    325\n",
            "northwest    325\n",
            "northeast    324\n",
            "Name: count, dtype: int64\n"
          ]
        },
        {
          "output_type": "stream",
          "name": "stderr",
          "text": [
            "/usr/local/lib/python3.10/dist-packages/sklearn/preprocessing/_encoders.py:868: FutureWarning: `sparse` was renamed to `sparse_output` in version 1.2 and will be removed in 1.4. `sparse_output` is ignored unless you leave `sparse` to its default value.\n",
            "  warnings.warn(\n"
          ]
        }
      ]
    },
    {
      "cell_type": "code",
      "source": [
        "print(df.head())"
      ],
      "metadata": {
        "colab": {
          "base_uri": "https://localhost:8080/"
        },
        "id": "obo96mp7V8Ht",
        "outputId": "4d51d2d4-8143-46b7-df8b-7a22a1289cff"
      },
      "execution_count": null,
      "outputs": [
        {
          "output_type": "stream",
          "name": "stdout",
          "text": [
            "   age     sex     bmi  children smoker     region      charges  \\\n",
            "0   19  female  27.900         0    yes  southwest  16884.92400   \n",
            "1   18    male  33.770         1     no  southeast   1725.55230   \n",
            "2   28    male  33.000         3     no  southeast   4449.46200   \n",
            "3   33    male  22.705         0     no  northwest  21984.47061   \n",
            "4   32    male  28.880         0     no  northwest   3866.85520   \n",
            "\n",
            "   region_northeast  region_northwest  region_southeast  region_southwest  \n",
            "0               0.0               0.0               0.0               1.0  \n",
            "1               0.0               0.0               1.0               0.0  \n",
            "2               0.0               0.0               1.0               0.0  \n",
            "3               0.0               1.0               0.0               0.0  \n",
            "4               0.0               1.0               0.0               0.0  \n"
          ]
        }
      ]
    },
    {
      "cell_type": "markdown",
      "source": [
        "# Tentativa...\n",
        "\n",
        "Tentei também agrupar algumas informações... mas o resultado disso foi ruim pois a precisao do modelo baixou"
      ],
      "metadata": {
        "id": "fWF5QQPBX_l7"
      }
    },
    {
      "cell_type": "code",
      "source": [
        "df[\"age_group\"] = pd.cut(df[\"age\"], bins=[-1, 20, 30, 40, 50, 60, 1000], labels=[\"Até 20\", \"21 a 30\", \"31 a 40\", \"41 a 50\", \"51 a 60\", \"60+\"])\n",
        "set(df['age_group'])"
      ],
      "metadata": {
        "colab": {
          "base_uri": "https://localhost:8080/"
        },
        "id": "3G6W9ZVxKMMw",
        "outputId": "ce9bb9dc-adc1-4b44-c5ee-e50f503b3acd"
      },
      "execution_count": null,
      "outputs": [
        {
          "output_type": "execute_result",
          "data": {
            "text/plain": [
              "{'21 a 30', '31 a 40', '41 a 50', '51 a 60', '60+', 'Até 20'}"
            ]
          },
          "metadata": {},
          "execution_count": 3
        }
      ]
    },
    {
      "cell_type": "code",
      "source": [
        "df[\"children_group\"] = pd.cut(df[\"children\"], bins=[-1, 3, 1000], labels=[\"0 a 3\",\"4+\"])\n",
        "set(df['children_group'])"
      ],
      "metadata": {
        "colab": {
          "base_uri": "https://localhost:8080/"
        },
        "id": "B7F6-adrOSIu",
        "outputId": "d01b2c26-9e76-463e-a801-c7f2afe19ced"
      },
      "execution_count": null,
      "outputs": [
        {
          "output_type": "execute_result",
          "data": {
            "text/plain": [
              "{'0 a 3', '4+'}"
            ]
          },
          "metadata": {},
          "execution_count": 4
        }
      ]
    },
    {
      "cell_type": "markdown",
      "source": [],
      "metadata": {
        "id": "i6Q1ypiXjI5B"
      }
    },
    {
      "cell_type": "code",
      "source": [
        "%matplotlib inline\n",
        "\n",
        "plt.scatter(df['age'], df['charges'])\n",
        "plt.xlabel('Age')\n",
        "plt.ylabel('Charges')\n",
        "plt.title('Scatter Plot of Age vs Charges')\n",
        "plt.show()\n",
        "\n",
        "plt.scatter(df['children'], df['charges'])\n",
        "plt.xlabel('Children')\n",
        "plt.ylabel('Charges')\n",
        "plt.title('Scatter Plot of Age vs Charges')\n",
        "plt.show()\n",
        "\n",
        "plt.scatter(df['children_group'], df['charges'])\n",
        "plt.xlabel('children_group')\n",
        "plt.ylabel('Charges')\n",
        "plt.title('Scatter Plot of Age vs Charges')\n",
        "plt.show()"
      ],
      "metadata": {
        "id": "xWtok4w0Lk1q"
      },
      "execution_count": null,
      "outputs": []
    },
    {
      "cell_type": "markdown",
      "source": [
        "# Aplicando Label Encoding"
      ],
      "metadata": {
        "id": "vVCJONcAFcfF"
      }
    },
    {
      "cell_type": "code",
      "source": [
        "#encodando categorias - o region vai ser encodado também, pois temos apenas 4 tipos\n",
        "\n",
        "from sklearn.preprocessing import LabelEncoder\n",
        "\n",
        "le = LabelEncoder()\n",
        "\n",
        "df_exec1 = df.copy()\n",
        "\n",
        "#df_exec1['age_group'] = le.fit_transform(df_exec1['age_group'])\n",
        "#df_exec1['children_group'] = le.fit_transform(df_exec1['children_group'])\n",
        "df_exec1['sex'] = le.fit_transform(df_exec1['sex'])\n",
        "df_exec1['smoker'] = le.fit_transform(df_exec1['smoker'])\n",
        "df_exec1['region'] = le.fit_transform(df_exec1['region'])\n",
        "\n",
        "#df_exec1 = df_exec1.drop('age', axis=1)\n",
        "#df_exec1 = df_exec1.drop('children', axis=1)\n"
      ],
      "metadata": {
        "id": "AW3wUOmE3Y6q"
      },
      "execution_count": null,
      "outputs": []
    },
    {
      "cell_type": "code",
      "source": [
        "#verificando a distribuicao dos dados\n",
        "\n",
        "%matplotlib inline\n",
        "import matplotlib.pyplot as plt\n",
        "df_exec1.hist(bins=50, figsize=(20,15))"
      ],
      "metadata": {
        "id": "WWm6IbZ8TNEO",
        "colab": {
          "base_uri": "https://localhost:8080/",
          "height": 1000
        },
        "outputId": "ab39a179-06a2-45ce-e662-498a9b9cc6ac"
      },
      "execution_count": null,
      "outputs": [
        {
          "output_type": "execute_result",
          "data": {
            "text/plain": [
              "array([[<Axes: title={'center': 'age'}>, <Axes: title={'center': 'sex'}>,\n",
              "        <Axes: title={'center': 'bmi'}>],\n",
              "       [<Axes: title={'center': 'children'}>,\n",
              "        <Axes: title={'center': 'smoker'}>,\n",
              "        <Axes: title={'center': 'region'}>],\n",
              "       [<Axes: title={'center': 'charges'}>, <Axes: >, <Axes: >]],\n",
              "      dtype=object)"
            ]
          },
          "metadata": {},
          "execution_count": 15
        },
        {
          "output_type": "display_data",
          "data": {
            "text/plain": [
              "<Figure size 2000x1500 with 9 Axes>"
            ],
            "image/png": "[encoded data removed]"
          },
          "metadata": {}
        }
      ]
    },
    {
      "cell_type": "code",
      "source": [
        "\n",
        "plt.scatter(df['bmi'], df['charges'])\n",
        "plt.xlabel('Region')\n",
        "plt.ylabel('Charges')\n",
        "plt.title('Scatter Plot of Region vs Charges')\n",
        "plt.show()\n"
      ],
      "metadata": {
        "id": "NYJQXPyYVs2x"
      },
      "execution_count": null,
      "outputs": []
    },
    {
      "cell_type": "code",
      "source": [
        "# verificando possiveis outliers\n",
        "import seaborn as sns\n",
        "\n",
        "plt.figure(figsize=(12, 8))\n",
        "sns.boxplot(data=df_exec1.drop('charges', axis=1).select_dtypes(include=['int','float']))\n",
        "plt.title('Box Plot of Scaled Numeric Columns')\n",
        "plt.show()\n"
      ],
      "metadata": {
        "id": "TPLmwklUOE8W"
      },
      "execution_count": null,
      "outputs": []
    },
    {
      "cell_type": "code",
      "source": [
        "#printando grafico de correlacao\n",
        "\n",
        "import matplotlib.pyplot as plt\n",
        "import seaborn as sns\n",
        "\n",
        "plt.figure(figsize=(10, 8))\n",
        "sns.heatmap(df_exec1.corr(), annot=True, fmt='.2f')\n",
        "plt.title('Correlation Matrix for Numeric Columns')\n",
        "plt.show()\n"
      ],
      "metadata": {
        "id": "Ihpgjud50FyY",
        "colab": {
          "base_uri": "https://localhost:8080/",
          "height": 699
        },
        "outputId": "709ada72-a6a3-4cdc-8890-4a9f1b8cc7fc"
      },
      "execution_count": null,
      "outputs": [
        {
          "output_type": "display_data",
          "data": {
            "text/plain": [
              "<Figure size 1000x800 with 2 Axes>"
            ],
            "image/png": "[encoded data removed]"
          },
          "metadata": {}
        }
      ]
    },
    {
      "cell_type": "markdown",
      "source": [
        "# Treino 1\n",
        "\n",
        "Treinando o modelo sem feature-engineering, obtive 76% no R2"
      ],
      "metadata": {
        "id": "yDCN2sCGmv0M"
      }
    },
    {
      "cell_type": "code",
      "source": [
        "from sklearn.model_selection import train_test_split\n",
        "from sklearn.preprocessing import StandardScaler\n",
        "\n",
        "df_X=df_exec1.drop('charges', axis=1)\n",
        "df_y=df_exec1['charges']\n",
        "\n",
        "print(df_X.shape, '\\n')\n",
        "print(df_y.shape, '\\n')\n",
        "\n",
        "df_train, df_test, df_y_train, df_y_test = train_test_split(df_X, df_y, test_size = 0.2, random_state = 7)\n",
        "\n",
        "stdScaler = StandardScaler()\n",
        "\n",
        "df_train_scaled = stdScaler.fit_transform(df_train)\n",
        "\n",
        "df_test_scaled = stdScaler.transform(df_test)\n",
        "\n",
        "print(len(df_train), \"treinamento +\", len(df_test), \"teste\")\n",
        "\n",
        "from sklearn.linear_model import LinearRegression\n",
        "from sklearn.metrics import mean_squared_error, mean_absolute_error, r2_score\n",
        "\n",
        "# Treinando o modelo de Regressão Linear\n",
        "modelo = LinearRegression()\n",
        "modelo.fit(df_train_scaled, df_y_train)\n",
        "\n",
        "# Fazendo previsões nos dados de teste\n",
        "y_pred = modelo.predict(df_test_scaled)\n",
        "\n",
        "# Avaliando o desempenho do modelo\n",
        "mse = mean_squared_error(df_y_test, y_pred)\n",
        "mae = mean_absolute_error(df_y_test, y_pred)\n",
        "r2 = r2_score(df_y_test, y_pred)\n",
        "\n",
        "# Imprimindo as métricas de avaliação\n",
        "print('MSE:', mse)\n",
        "print('MAE:', mae)\n",
        "print('R2:', r2)\n"
      ],
      "metadata": {
        "id": "7FX9ATvYWMAq",
        "colab": {
          "base_uri": "https://localhost:8080/"
        },
        "outputId": "dd8455c1-824f-475b-cad8-0af1021a3143"
      },
      "execution_count": null,
      "outputs": [
        {
          "output_type": "stream",
          "name": "stdout",
          "text": [
            "1070 treinamento + 268 teste\n"
          ]
        }
      ]
    },
    {
      "cell_type": "markdown",
      "source": [
        "# Treino 2\n",
        "\n",
        "Treinando o modelo agora com o PolynomialFeatures, e obtive quase 84% no R2"
      ],
      "metadata": {
        "id": "k-Y5vFGYYkGX"
      }
    },
    {
      "cell_type": "code",
      "source": [
        "from sklearn.linear_model import LinearRegression\n",
        "from sklearn.compose import ColumnTransformer\n",
        "from sklearn.decomposition import PCA\n",
        "from sklearn.metrics import mean_squared_error, mean_absolute_error, r2_score\n",
        "from sklearn.preprocessing import StandardScaler, MinMaxScaler, PolynomialFeatures,OneHotEncoder\n",
        "from sklearn.model_selection import cross_val_score, train_test_split\n",
        "from sklearn.pipeline import make_pipeline\n",
        "\n",
        "df_X=df_exec1.drop('charges', axis=1)\n",
        "df_y=df_exec1['charges']\n",
        "\n",
        "print(df_X.shape, '\\n')\n",
        "print(df_y.shape, '\\n')\n",
        "\n",
        "df_train, df_test, df_y_train, df_y_test = train_test_split(df_X, df_y, test_size = 0.2, random_state = 7)\n",
        "\n",
        "column_transformer = ColumnTransformer(\n",
        "    transformers=[\n",
        "        #('cat', OneHotEncoder(), ['region']),\n",
        "        MinMaxScaler(),\n",
        "    ],\n",
        "    remainder='passthrough'  # Mantém as outras colunas sem alterações\n",
        ")\n",
        "\n",
        "pipeline = make_pipeline(StandardScaler(), PolynomialFeatures(degree=2), PCA(n_components=25), LinearRegression())\n",
        "\n",
        "# Aplicando validação cruzada\n",
        "scores = cross_val_score(pipeline, df_train, df_y_train, cv=5)\n",
        "\n",
        "# Treinando o modelo\n",
        "pipeline.fit(df_train, df_y_train)\n",
        "\n",
        "print(pipeline.get_feature_names_out)\n",
        "\n",
        "y_pred = pipeline.predict(df_test)\n",
        "\n",
        "mse = mean_squared_error(df_y_test, y_pred)\n",
        "mae = mean_absolute_error(df_y_test, y_pred)\n",
        "r2 = r2_score(df_y_test, y_pred)\n",
        "\n",
        "# Avaliando o modelo\n",
        "print(\"Score de validação cruzada:\", scores)\n",
        "print(\"Score médio de validação cruzada:\", scores.mean())\n",
        "print('MSE:', mse)\n",
        "print('MAE:', mae)\n",
        "print('R2:', r2)"
      ],
      "metadata": {
        "colab": {
          "base_uri": "https://localhost:8080/"
        },
        "id": "atp1Y4xpH0Ts",
        "outputId": "6c85ba1e-d541-49a1-ed00-585b7e31b769"
      },
      "execution_count": null,
      "outputs": [
        {
          "output_type": "stream",
          "name": "stdout",
          "text": [
            "(1338, 6) \n",
            "\n",
            "(1338,) \n",
            "\n",
            "<bound method Pipeline.get_feature_names_out of Pipeline(steps=[('standardscaler', StandardScaler()),\n",
            "                ('polynomialfeatures', PolynomialFeatures()),\n",
            "                ('linearregression', LinearRegression())])>\n",
            "Score de validação cruzada: [0.83617228 0.86383791 0.841488   0.79995857 0.8578069 ]\n",
            "Score médio de validação cruzada: 0.8398527299355267\n",
            "MSE: 25945706.001200557\n",
            "MAE: 3028.311043134329\n",
            "R2: 0.8378228965301677\n"
          ]
        }
      ]
    },
    {
      "cell_type": "markdown",
      "source": [
        "# Treino 2 removendo features de baixa correlação"
      ],
      "metadata": {
        "id": "9QhhLWGLPW2A"
      }
    },
    {
      "cell_type": "code",
      "source": [
        "from sklearn.linear_model import LinearRegression\n",
        "from sklearn.compose import ColumnTransformer\n",
        "from sklearn.decomposition import PCA\n",
        "from sklearn.metrics import mean_squared_error, mean_absolute_error, r2_score\n",
        "from sklearn.preprocessing import StandardScaler, MinMaxScaler, PolynomialFeatures,OneHotEncoder\n",
        "from sklearn.model_selection import cross_val_score, train_test_split\n",
        "from sklearn.pipeline import make_pipeline\n",
        "\n",
        "df_X=df_exec1.drop('charges', axis=1)\n",
        "df_X = df_X[['bmi','age','smoker','children']]\n",
        "df_y=df_exec1['charges']\n",
        "\n",
        "print(df_X.shape, '\\n')\n",
        "print(df_y.shape, '\\n')\n",
        "\n",
        "df_train, df_test, df_y_train, df_y_test = train_test_split(df_X, df_y, test_size = 0.2, random_state = 7)\n",
        "\n",
        "column_transformer = ColumnTransformer(\n",
        "    transformers=[\n",
        "        #('cat', OneHotEncoder(), ['region']),\n",
        "        MinMaxScaler(),\n",
        "    ],\n",
        "    remainder='passthrough'  # Mantém as outras colunas sem alterações\n",
        ")\n",
        "\n",
        "pipeline = make_pipeline(StandardScaler(), PolynomialFeatures(degree=2), LinearRegression())\n",
        "\n",
        "# Aplicando validação cruzada\n",
        "scores = cross_val_score(pipeline, df_train, df_y_train, cv=5)\n",
        "\n",
        "# Treinando o modelo\n",
        "pipeline.fit(df_train, df_y_train)\n",
        "\n",
        "print(pipeline.get_feature_names_out)\n",
        "\n",
        "y_pred = pipeline.predict(df_test)\n",
        "\n",
        "mse = mean_squared_error(df_y_test, y_pred)\n",
        "mae = mean_absolute_error(df_y_test, y_pred)\n",
        "r2 = r2_score(df_y_test, y_pred)\n",
        "\n",
        "# Avaliando o modelo\n",
        "print(\"Score de validação cruzada:\", scores)\n",
        "print(\"Score médio de validação cruzada:\", scores.mean())\n",
        "print('MSE:', mse)\n",
        "print('MAE:', mae)\n",
        "print('R2:', r2)"
      ],
      "metadata": {
        "colab": {
          "base_uri": "https://localhost:8080/"
        },
        "id": "NVU0APqyOoKf",
        "outputId": "f9f688ae-8f05-4096-b790-932b8d8bf267"
      },
      "execution_count": null,
      "outputs": [
        {
          "output_type": "stream",
          "name": "stdout",
          "text": [
            "(1338, 4) \n",
            "\n",
            "(1338,) \n",
            "\n",
            "<bound method Pipeline.get_feature_names_out of Pipeline(steps=[('standardscaler', StandardScaler()),\n",
            "                ('polynomialfeatures', PolynomialFeatures()),\n",
            "                ('linearregression', LinearRegression())])>\n",
            "Score de validação cruzada: [0.84171788 0.86257817 0.84173678 0.79906152 0.85400558]\n",
            "Score médio de validação cruzada: 0.8398199877609518\n",
            "MSE: 25883730.133292\n",
            "MAE: 3002.9583386567165\n",
            "R2: 0.8382102849767173\n"
          ]
        }
      ]
    },
    {
      "cell_type": "markdown",
      "source": [
        "# Correlacao das PolinomialFeatures"
      ],
      "metadata": {
        "id": "BsXQMZq8FID7"
      }
    },
    {
      "cell_type": "code",
      "source": [
        "#printando grafico de correlacao\n",
        "\n",
        "import matplotlib.pyplot as plt\n",
        "import seaborn as sns\n",
        "from sklearn.preprocessing import StandardScaler, MinMaxScaler, PolynomialFeatures,OneHotEncoder\n",
        "\n",
        "df_X=df_exec1.drop('charges', axis=1)\n",
        "df_X = df_X[['bmi','age','smoker','children']]\n",
        "df_y=df_exec1['charges']\n",
        "\n",
        "poli = PolynomialFeatures(degree=2);\n",
        "\n",
        "df_X_poli = poli.fit_transform(df_X)\n",
        "\n",
        "col_names = poli.get_feature_names_out(input_features=df_X.columns)\n",
        "df_X_poli = pd.DataFrame(df_X_poli, columns=col_names)\n",
        "\n",
        "novo_df = pd.concat([df_X_poli, df_y], axis=1)\n",
        "\n",
        "plt.figure(figsize=(10, 8))\n",
        "sns.heatmap(novo_df.corr(), annot=True, fmt='.2f')\n",
        "plt.title('Correlation Matrix for Numeric Columns')\n",
        "plt.show()\n"
      ],
      "metadata": {
        "colab": {
          "base_uri": "https://localhost:8080/",
          "height": 796
        },
        "id": "4XoNi6FgFHSp",
        "outputId": "02c23c0f-29d5-4c85-ce73-ba9cca4fe2f1"
      },
      "execution_count": null,
      "outputs": [
        {
          "output_type": "display_data",
          "data": {
            "text/plain": [
              "<Figure size 1000x800 with 2 Axes>"
            ],
            "image/png": "[encoded data removed]"
          },
          "metadata": {}
        }
      ]
    },
    {
      "cell_type": "code",
      "source": [
        "from sklearn.linear_model import LinearRegression\n",
        "from sklearn.compose import ColumnTransformer\n",
        "from sklearn.decomposition import PCA\n",
        "from sklearn.metrics import mean_squared_error, mean_absolute_error, r2_score\n",
        "from sklearn.preprocessing import StandardScaler, MinMaxScaler, PolynomialFeatures,OneHotEncoder\n",
        "from sklearn.model_selection import cross_val_score, train_test_split\n",
        "from sklearn.pipeline import make_pipeline\n",
        "\n",
        "df_X=novo_df.drop(['charges','children', 'children^2'], axis=1)\n",
        "df_y=novo_df['charges']\n",
        "\n",
        "print(df_X.shape, '\\n')\n",
        "print(df_y.shape, '\\n')\n",
        "\n",
        "df_train, df_test, df_y_train, df_y_test = train_test_split(df_X, df_y, test_size = 0.2, random_state = 7)\n",
        "\n",
        "column_transformer = ColumnTransformer(\n",
        "    transformers=[\n",
        "        #('cat', OneHotEncoder(), ['region']),\n",
        "        MinMaxScaler(),\n",
        "    ],\n",
        "    remainder='passthrough'  # Mantém as outras colunas sem alterações\n",
        ")\n",
        "\n",
        "pipeline = make_pipeline(StandardScaler(), PolynomialFeatures(degree=2), PCA(n_components=45), LinearRegression())\n",
        "\n",
        "# Aplicando validação cruzada\n",
        "scores = cross_val_score(pipeline, df_train, df_y_train, cv=5)\n",
        "\n",
        "# Treinando o modelo\n",
        "pipeline.fit(df_train, df_y_train)\n",
        "\n",
        "print(pipeline.get_feature_names_out)\n",
        "\n",
        "y_pred = pipeline.predict(df_test)\n",
        "\n",
        "mse = mean_squared_error(df_y_test, y_pred)\n",
        "mae = mean_absolute_error(df_y_test, y_pred)\n",
        "r2 = r2_score(df_y_test, y_pred)\n",
        "\n",
        "# Avaliando o modelo\n",
        "print(\"Score de validação cruzada:\", scores)\n",
        "print(\"Score médio de validação cruzada:\", scores.mean())\n",
        "print('MSE:', mse)\n",
        "print('MAE:', mae)\n",
        "print('R2:', r2)"
      ],
      "metadata": {
        "colab": {
          "base_uri": "https://localhost:8080/"
        },
        "id": "rwrRufY1HBZE",
        "outputId": "93e2e78c-e79c-4995-918f-5808513c98c4"
      },
      "execution_count": null,
      "outputs": [
        {
          "output_type": "stream",
          "name": "stdout",
          "text": [
            "(1338, 13) \n",
            "\n",
            "(1338,) \n",
            "\n",
            "<bound method Pipeline.get_feature_names_out of Pipeline(steps=[('standardscaler', StandardScaler()),\n",
            "                ('polynomialfeatures', PolynomialFeatures()),\n",
            "                ('pca', PCA(n_components=45)),\n",
            "                ('linearregression', LinearRegression())])>\n",
            "Score de validação cruzada: [0.82679113 0.845877   0.83748142 0.78446072 0.85086488]\n",
            "Score médio de validação cruzada: 0.8290950306502909\n",
            "MSE: 24551560.44991302\n",
            "MAE: 2885.7544456338787\n",
            "R2: 0.8465371896510681\n"
          ]
        }
      ]
    },
    {
      "cell_type": "code",
      "source": [
        "import os\n",
        "print(\"Número de CPUs disponíveis:\", os.cpu_count())"
      ],
      "metadata": {
        "colab": {
          "base_uri": "https://localhost:8080/"
        },
        "id": "VRhib2iEwtIO",
        "outputId": "5e17b18b-0ac1-4727-94ad-89883b08ef5b"
      },
      "execution_count": null,
      "outputs": [
        {
          "output_type": "stream",
          "name": "stdout",
          "text": [
            "Número de CPUs disponíveis: 12\n"
          ]
        }
      ]
    },
    {
      "cell_type": "code",
      "source": [
        "from tpot import TPOTRegressor\n",
        "from sklearn.model_selection import train_test_split\n",
        "from sklearn.preprocessing import PolynomialFeatures\n",
        "from sklearn.decomposition import PCA\n",
        "import pandas as pd\n",
        "\n",
        "X=novo_df.drop(['charges','children', 'children^2'], axis=1)\n",
        "y=novo_df['charges']\n",
        "\n",
        "X_train, X_test, y_train, y_test = train_test_split(X, y, train_size=0.8, test_size=0.2)\n",
        "\n",
        "# Executar TPOT\n",
        "tpot = TPOTRegressor(generations=30, population_size=150, verbosity=2, random_state=42, n_jobs=12)\n",
        "tpot.fit(X_train, y_train)\n",
        "print(tpot.score(X_test, y_test))"
      ],
      "metadata": {
        "colab": {
          "base_uri": "https://localhost:8080/",
          "height": 1000,
          "referenced_widgets": [
            "f547df1d26074e43adc3cc970dc8be1b",
            "7bfe22b6a1394030b73a7e759204bd80",
            "3fbe62741fa445b6aba2851295720e60",
            "83ebb40da40c436eadae93ee828dfb5f",
            "bf92431d1a2147ccbc7bf9247c1dfe30",
            "cf74723bc3054046ace8768b9f8214f3",
            "37479a0574c9471383fa8e44d019c063",
            "9d9910b8758c4900af02bb0ff3c76232",
            "b86a83e81e144bbdbba76cb462504313",
            "687942589a1148348c9c115c62adae2c",
            "e7408f08168d4d9d8d6bbc9d06db2838"
          ]
        },
        "id": "xZkWJEDeH0PL",
        "outputId": "63885bee-c04f-40db-991f-a7cbb9fd99a9"
      },
      "execution_count": null,
      "outputs": [
        {
          "output_type": "display_data",
          "data": {
            "text/plain": [
              "Optimization Progress:   0%|          | 0/4650 [00:00<?, ?pipeline/s]"
            ],
            "application/vnd.jupyter.widget-view+json": {
              "version_major": 2,
              "version_minor": 0,
              "model_id": "f547df1d26074e43adc3cc970dc8be1b"
            }
          },
          "metadata": {}
        },
        {
          "output_type": "stream",
          "name": "stdout",
          "text": [
            "\n",
            "Generation 1 - Current best internal CV score: -19154376.31909568\n",
            "\n",
            "Generation 2 - Current best internal CV score: -19154376.31909568\n",
            "\n",
            "Generation 3 - Current best internal CV score: -19154376.31909568\n",
            "\n",
            "Generation 4 - Current best internal CV score: -18885482.554653578\n",
            "\n",
            "Generation 5 - Current best internal CV score: -18885482.554653578\n",
            "\n",
            "Generation 6 - Current best internal CV score: -18844511.03758666\n",
            "\n",
            "Generation 7 - Current best internal CV score: -18844511.03758666\n",
            "\n",
            "Generation 8 - Current best internal CV score: -18803619.44049888\n",
            "\n",
            "Generation 9 - Current best internal CV score: -18716021.350593187\n",
            "\n",
            "Generation 10 - Current best internal CV score: -18716021.350593187\n",
            "\n",
            "Generation 11 - Current best internal CV score: -18671316.034143474\n",
            "\n",
            "Generation 12 - Current best internal CV score: -18671316.034143474\n",
            "\n",
            "Generation 13 - Current best internal CV score: -18570431.279317547\n",
            "\n",
            "Generation 14 - Current best internal CV score: -18570431.279317547\n",
            "\n",
            "Generation 15 - Current best internal CV score: -18570431.279317547\n",
            "\n",
            "Generation 16 - Current best internal CV score: -18570431.279317547\n",
            "\n",
            "Generation 17 - Current best internal CV score: -18570431.279317547\n",
            "\n",
            "Generation 18 - Current best internal CV score: -18544379.1161834\n",
            "\n",
            "Generation 19 - Current best internal CV score: -18490545.206041414\n",
            "\n",
            "Generation 20 - Current best internal CV score: -18490545.206041414\n",
            "\n",
            "Generation 21 - Current best internal CV score: -18487006.45067153\n",
            "\n",
            "Generation 22 - Current best internal CV score: -18487006.45067153\n",
            "\n",
            "Generation 23 - Current best internal CV score: -18487006.45067153\n",
            "\n",
            "Generation 24 - Current best internal CV score: -18450234.105743915\n",
            "\n",
            "Generation 25 - Current best internal CV score: -18450234.105743915\n",
            "\n",
            "Generation 26 - Current best internal CV score: -18446487.19273959\n",
            "\n",
            "Generation 27 - Current best internal CV score: -18402476.82873292\n",
            "\n",
            "Generation 28 - Current best internal CV score: -18402476.82873292\n",
            "\n",
            "Generation 29 - Current best internal CV score: -18402476.82873292\n",
            "\n",
            "Generation 30 - Current best internal CV score: -18402476.82873292\n",
            "\n",
            "Best pipeline: RidgeCV(GradientBoostingRegressor(SelectPercentile(input_matrix, percentile=93), alpha=0.99, learning_rate=0.01, loss=huber, max_depth=1, max_features=0.45, min_samples_leaf=12, min_samples_split=18, n_estimators=100, subsample=0.9500000000000001))\n",
            "-24583138.16071456\n"
          ]
        }
      ]
    },
    {
      "cell_type": "markdown",
      "source": [
        "# Teste com TPOT - Seleção de modelo via programação genética"
      ],
      "metadata": {
        "id": "kLt6iSDSHIkM"
      }
    },
    {
      "cell_type": "markdown",
      "source": [
        "## Sem Polinomial Features"
      ],
      "metadata": {
        "id": "L8QJZizO2oT7"
      }
    },
    {
      "cell_type": "code",
      "source": [
        "from tpot import TPOTRegressor\n",
        "from sklearn.model_selection import train_test_split\n",
        "from sklearn.preprocessing import PolynomialFeatures\n",
        "import pandas as pd\n",
        "\n",
        "X=df_exec1.drop('charges', axis=1)\n",
        "X=X[['bmi','age','smoker','children']]\n",
        "y=df_exec1['charges']\n",
        "\n",
        "\n",
        "X_train, X_test, y_train, y_test = train_test_split(X, y, train_size=0.8, test_size=0.2)\n",
        "\n",
        "# Executar TPOT\n",
        "tpot2 = TPOTRegressor(generations=30, population_size=150, verbosity=2, random_state=42, n_jobs=-1)\n",
        "tpot2.fit(X_train, y_train)\n",
        "print(tpot2.score(X_test, y_test))\n",
        "\n",
        "from sklearn.metrics import mean_squared_error, mean_absolute_error, r2_score\n",
        "\n",
        "\n",
        "y_pred = tpot2.predict(X_test)\n",
        "\n",
        "mse = mean_squared_error(y_test, y_pred)\n",
        "mae = mean_absolute_error(y_test, y_pred)\n",
        "r2 = r2_score(y_test, y_pred)\n",
        "\n",
        "print('MSE:', mse)\n",
        "print('MAE:', mae)\n",
        "print('R2:', r2)"
      ],
      "metadata": {
        "colab": {
          "base_uri": "https://localhost:8080/",
          "height": 1000,
          "referenced_widgets": [
            "d54c0fbb655b4047963a6762d3fb8b22",
            "33e519d7e4954240bc171cf1f1a3bf1a",
            "226dcbf6207f47978ded185fb4d529d3",
            "6ce6ef5e4361486999cc607a2ec6da0e",
            "b766b91cccf748768b7a4559573d43b7",
            "8bf1e886634b4015968d1ed572c40005",
            "65648ff69b2e40b4a6356b9f99260b36",
            "a5e606232f594f8695e7c4b6687d4369",
            "7ca2ba4cc2c546ff8f554e9c074672b6",
            "876d327c7dac4860a7ee47cb7dd7e570",
            "cd1cf2fc0197477a9ac7bbc5386b119c"
          ]
        },
        "id": "fBGCPPJetidn",
        "outputId": "8d7332d3-a2cf-400c-aeb0-efb7c5378079"
      },
      "execution_count": null,
      "outputs": [
        {
          "output_type": "display_data",
          "data": {
            "text/plain": [
              "Optimization Progress:   0%|          | 0/4650 [00:00<?, ?pipeline/s]"
            ],
            "application/vnd.jupyter.widget-view+json": {
              "version_major": 2,
              "version_minor": 0,
              "model_id": "d54c0fbb655b4047963a6762d3fb8b22"
            }
          },
          "metadata": {}
        },
        {
          "output_type": "stream",
          "name": "stdout",
          "text": [
            "\n",
            "Generation 1 - Current best internal CV score: -20622222.179167222\n",
            "\n",
            "Generation 2 - Current best internal CV score: -20622222.179167222\n",
            "\n",
            "Generation 3 - Current best internal CV score: -20571950.86882689\n",
            "\n",
            "Generation 4 - Current best internal CV score: -20571950.86882689\n",
            "\n",
            "Generation 5 - Current best internal CV score: -20480917.313728474\n",
            "\n",
            "Generation 6 - Current best internal CV score: -20227810.22269866\n",
            "\n",
            "Generation 7 - Current best internal CV score: -20227810.22269866\n",
            "\n",
            "Generation 8 - Current best internal CV score: -20227810.22269866\n",
            "\n",
            "Generation 9 - Current best internal CV score: -20227810.22269866\n",
            "\n",
            "Generation 10 - Current best internal CV score: -20227810.22269866\n",
            "\n",
            "Generation 11 - Current best internal CV score: -20227810.22269866\n",
            "\n",
            "Generation 12 - Current best internal CV score: -20227810.22269866\n",
            "\n",
            "Generation 13 - Current best internal CV score: -20227810.22269866\n",
            "\n",
            "Generation 14 - Current best internal CV score: -20227810.22269866\n",
            "\n",
            "Generation 15 - Current best internal CV score: -20227810.22269866\n",
            "\n",
            "Generation 16 - Current best internal CV score: -20220907.62074322\n",
            "\n",
            "Generation 17 - Current best internal CV score: -20220907.62074322\n",
            "\n",
            "Generation 18 - Current best internal CV score: -20187207.013521813\n",
            "\n",
            "Generation 19 - Current best internal CV score: -20187207.013521813\n",
            "\n",
            "Generation 20 - Current best internal CV score: -20187207.013521813\n",
            "\n",
            "Generation 21 - Current best internal CV score: -20187207.013521813\n",
            "\n",
            "Generation 22 - Current best internal CV score: -20187207.013521813\n",
            "\n",
            "Generation 23 - Current best internal CV score: -20178868.18024916\n",
            "\n",
            "Generation 24 - Current best internal CV score: -20178868.18024916\n",
            "\n",
            "Generation 25 - Current best internal CV score: -20178868.18024916\n",
            "\n",
            "Generation 26 - Current best internal CV score: -20178868.18024916\n",
            "\n",
            "Generation 27 - Current best internal CV score: -20178868.18024916\n",
            "\n",
            "Generation 28 - Current best internal CV score: -20178868.18024916\n",
            "\n",
            "Generation 29 - Current best internal CV score: -20178868.18024916\n",
            "\n",
            "Generation 30 - Current best internal CV score: -20167125.643966857\n",
            "\n",
            "Best pipeline: RandomForestRegressor(RidgeCV(RobustScaler(StandardScaler(VarianceThreshold(input_matrix, threshold=0.0005)))), bootstrap=True, max_features=0.7500000000000001, min_samples_leaf=8, min_samples_split=9, n_estimators=100)\n",
            "-22237814.488256276\n",
            "MSE: 22237814.488256276\n",
            "MAE: 2707.4470146425733\n",
            "R2: 0.8361197062279215\n"
          ]
        }
      ]
    },
    {
      "cell_type": "markdown",
      "source": [
        "## Com polinomial features"
      ],
      "metadata": {
        "id": "21UkZhvH2wzk"
      }
    },
    {
      "cell_type": "code",
      "source": [
        "from tpot import TPOTRegressor\n",
        "from sklearn.model_selection import train_test_split\n",
        "from sklearn.preprocessing import PolynomialFeatures\n",
        "import pandas as pd\n",
        "\n",
        "X=df_exec1.drop('charges', axis=1)\n",
        "X=X[['bmi','age','smoker','children']]\n",
        "y=df_exec1['charges']\n",
        "\n",
        "poly = PolynomialFeatures(degree=3);\n",
        "\n",
        "X_poly = poly.fit_transform(X)\n",
        "\n",
        "X_train, X_test, y_train, y_test = train_test_split(X_poly, y, train_size=0.8, test_size=0.2)\n",
        "\n",
        "# Executar TPOT\n",
        "tpot = TPOTRegressor(generations=30, population_size=150, verbosity=2, random_state=42, n_jobs=-1)\n",
        "tpot.fit(X_train, y_train)\n",
        "print(tpot.score(X_test, y_test))"
      ],
      "metadata": {
        "colab": {
          "base_uri": "https://localhost:8080/",
          "height": 1000,
          "referenced_widgets": [
            "9d6969fa490f4dd7b7b6bccb5ad5efd5",
            "22746f4a804747fdbf9632e413bf5b91",
            "cd65350514dd40b2a75b22ae0f25e2b5",
            "b0476c7cb3ab496d8893df5a7c743513",
            "6f241aca9fe543429146e185c6ede18f",
            "ae341954d05f4721a8e8cf6e83034587",
            "9a4017969b6b4062a1c0748a92e05b4c",
            "a6febcb055b24f14b726f95c2698f8f5",
            "63076053f7fc4e758ca0952c6f15476f",
            "6f64831431fb4b17a04757d6d2d1f77a",
            "03b4a4b333a94ddf873ba602fe43f94d"
          ]
        },
        "id": "FBsIfn5hEpMh",
        "outputId": "00082467-1c46-4599-8c2a-1132ae040a9d"
      },
      "execution_count": null,
      "outputs": [
        {
          "output_type": "display_data",
          "data": {
            "text/plain": [
              "Optimization Progress:   0%|          | 0/4650 [00:00<?, ?pipeline/s]"
            ],
            "application/vnd.jupyter.widget-view+json": {
              "version_major": 2,
              "version_minor": 0,
              "model_id": "9d6969fa490f4dd7b7b6bccb5ad5efd5"
            }
          },
          "metadata": {}
        },
        {
          "output_type": "stream",
          "name": "stdout",
          "text": [
            "\n",
            "Generation 1 - Current best internal CV score: -22135644.386912722\n",
            "\n",
            "Generation 2 - Current best internal CV score: -22135644.386912722\n",
            "\n",
            "Generation 3 - Current best internal CV score: -21997917.076155134\n",
            "\n",
            "Generation 4 - Current best internal CV score: -21997917.076155134\n",
            "\n",
            "Generation 5 - Current best internal CV score: -21997917.076155134\n",
            "\n",
            "Generation 6 - Current best internal CV score: -21935540.02827863\n",
            "\n",
            "Generation 7 - Current best internal CV score: -21935540.02827863\n",
            "\n",
            "Generation 8 - Current best internal CV score: -21935540.02827863\n",
            "\n",
            "Generation 9 - Current best internal CV score: -21935540.02827863\n",
            "\n",
            "Generation 10 - Current best internal CV score: -21934317.653605353\n",
            "\n",
            "Generation 11 - Current best internal CV score: -21934317.653605353\n",
            "\n",
            "Generation 12 - Current best internal CV score: -21883772.824496288\n",
            "\n",
            "Generation 13 - Current best internal CV score: -21802102.304114796\n",
            "\n",
            "Generation 14 - Current best internal CV score: -21802102.304114796\n",
            "\n",
            "Generation 15 - Current best internal CV score: -21802102.304114796\n",
            "\n",
            "Generation 16 - Current best internal CV score: -21802014.80616178\n",
            "\n",
            "Generation 17 - Current best internal CV score: -21802014.80616178\n",
            "\n",
            "Generation 18 - Current best internal CV score: -21762360.681027293\n",
            "\n",
            "Generation 19 - Current best internal CV score: -21762360.681027293\n",
            "\n",
            "Generation 20 - Current best internal CV score: -21762360.681027293\n",
            "\n",
            "Generation 21 - Current best internal CV score: -21762360.681027293\n",
            "\n",
            "Generation 22 - Current best internal CV score: -21762360.681027293\n",
            "\n",
            "Generation 23 - Current best internal CV score: -21762360.681027293\n",
            "\n",
            "Generation 24 - Current best internal CV score: -21703593.13453565\n",
            "\n",
            "Generation 25 - Current best internal CV score: -21703593.13453565\n",
            "\n",
            "Generation 26 - Current best internal CV score: -21703593.13453565\n",
            "\n",
            "Generation 27 - Current best internal CV score: -21703593.13453565\n",
            "\n",
            "Generation 28 - Current best internal CV score: -21703366.05284457\n",
            "\n",
            "Generation 29 - Current best internal CV score: -21703366.05284457\n",
            "\n",
            "Generation 30 - Current best internal CV score: -21698493.216341935\n",
            "\n",
            "Best pipeline: RandomForestRegressor(SelectFwe(ElasticNetCV(input_matrix, l1_ratio=0.8500000000000001, tol=0.001), alpha=0.012), bootstrap=True, max_features=0.2, min_samples_leaf=16, min_samples_split=4, n_estimators=100)\n",
            "-14049901.817124126\n"
          ]
        }
      ]
    },
    {
      "cell_type": "code",
      "source": [
        "print(tpot.fitted_pipeline_)\n",
        "\n",
        "print(tpot.score(X_test, y_test))"
      ],
      "metadata": {
        "colab": {
          "base_uri": "https://localhost:8080/"
        },
        "id": "dM5Fr2k4rKDR",
        "outputId": "d86c7a39-b362-4ee0-ee02-9f96b1b4d862"
      },
      "execution_count": null,
      "outputs": [
        {
          "output_type": "stream",
          "name": "stdout",
          "text": [
            "Pipeline(steps=[('stackingestimator',\n",
            "                 StackingEstimator(estimator=RandomForestRegressor(max_features=0.4,\n",
            "                                                                   min_samples_leaf=19,\n",
            "                                                                   min_samples_split=3,\n",
            "                                                                   random_state=42))),\n",
            "                ('minmaxscaler', MinMaxScaler()),\n",
            "                ('linearsvr',\n",
            "                 LinearSVR(dual=False, epsilon=0.01,\n",
            "                           loss='squared_epsilon_insensitive', random_state=42,\n",
            "                           tol=1e-05))])\n",
            "-19314693.627297476\n"
          ]
        }
      ]
    },
    {
      "cell_type": "code",
      "source": [
        "from sklearn.metrics import mean_squared_error, mean_absolute_error, r2_score\n",
        "\n",
        "\n",
        "y_pred = tpot.predict(X_test)\n",
        "\n",
        "mse = mean_squared_error(y_test, y_pred)\n",
        "mae = mean_absolute_error(y_test, y_pred)\n",
        "r2 = r2_score(y_test, y_pred)\n",
        "\n",
        "print('MSE:', mse)\n",
        "print('MAE:', mae)\n",
        "print('R2:', r2)"
      ],
      "metadata": {
        "colab": {
          "base_uri": "https://localhost:8080/"
        },
        "id": "Vgpp_RQ1Ipkg",
        "outputId": "5aaad1e0-2a6d-4aba-953a-8808dc70e41f"
      },
      "execution_count": null,
      "outputs": [
        {
          "output_type": "stream",
          "name": "stdout",
          "text": [
            "MSE: 24583138.16071456\n",
            "MAE: 2643.3039444653705\n",
            "R2: 0.8395160098926643\n"
          ]
        }
      ]
    }
  ]
}